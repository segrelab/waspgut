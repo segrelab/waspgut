{
 "cells": [
  {
   "cell_type": "markdown",
   "metadata": {},
   "source": [
    "## Growth in a test tube\n",
    "This simple example illustrates the basic workflow of COMETS, including how to build the simulation layout, to specify parameters, load the model and plot the data once the simulation is finished.\n",
    "\n",
    "The core of the COMETS methodology is the Dynamic Flux Balance Analysis algorithm (Madahevan et al 2002). One of the first successful simulations of the time dynamics of bacterial metabolism was the classical study of *Escherichia coli* batch culture by Varma and Palsson (1994). Here, we reproduce one of the results in that study, the anaerobic fermentation in minimal media with glucose as the only carbon source.\n",
    "\n",
    "We will simulate a test tube by setting a well-mixed virtual container with $1cm3$ of media, which we will inoculate with $5\\times10^{−6}$ grams of E. coli biomass. We will set the initial composition of the substrate to 11mM of glucose and unlimited amounts of ammonia and phosphate. For the nutrient uptake, we will use standard Michaelis-Menten kinetics, using the experimentally measured Monod parameter for anaerobic uptake of glucose by E. coli.\n",
    "\n",
    "For this simple example, we use the rudimentary \"core\" model of E. coli (Orth et al. 2009), which can be downloaded from http://bigg.ucsd.edu/models/e_coli_core or loaded, as we do here, using a function built in CobraPy. This model represents an E. coli metabolism simplified to its core functions (glycolysis, tricarboxylic cycle, pentose phosphate shunt, etc).\n",
    "\n",
    "\n",
    "### Loading the COMETS Python Toolbox\n",
    "\n",
    "We first import the COMETS Python toolbox, which will also load all the dependencies, such as CobraPy or pandas."
   ]
  },
  {
   "cell_type": "code",
   "execution_count": 1,
   "metadata": {},
   "outputs": [
    {
     "name": "stdout",
     "output_type": "stream",
     "text": [
      "/home/irene/softwares/comets_linux/comets_2.12.3/\n"
     ]
    }
   ],
   "source": [
    "!source ~/.bashrc\n",
    "import os\n",
    "#os.environ['GUROBI_HOME'] =indicate the path to Gurobi home\n",
    "#os.environ['COMETS_HOME'] =indicate the path to Comet home\n",
    "#!export PYTHONPATH=$PYTHONPATH:/home/softwares/comets_linux/comets_2.12.3/lib/cometspy-master/ #indicate the pathway to cometspy-master\n",
    "import sys\n",
    "#sys.path.append('path-to-cometspy-master') #report in the brackets the pathway to the cometspy-master folder\n"
   ]
  },
  {
   "cell_type": "code",
   "execution_count": 2,
   "metadata": {},
   "outputs": [],
   "source": [
    "#!pip install cometspy\n",
    "import cometspy as c\n",
    "import cobra\n",
    "import matplotlib.pyplot as plt\n",
    "import os\n",
    "import pandas as pd\n",
    "\n"
   ]
  },
  {
   "cell_type": "markdown",
   "metadata": {},
   "source": [
    "### Creating a test tube\n",
    "Run the next steps alternatively to simulate the settings indicated in the first line"
   ]
  },
  {
   "cell_type": "code",
   "execution_count": 3,
   "metadata": {},
   "outputs": [
    {
     "name": "stdout",
     "output_type": "stream",
     "text": [
      "building empty layout model\n",
      "models will need to be added with layout.add_model()\n",
      "Warning: The added metabolite (glc__D_e) is not able to be taken up by any of the current models\n",
      "Warning: The added metabolite (o2_e) is not able to be taken up by any of the current models\n",
      "Warning: The added metabolite (nh4_e) is not able to be taken up by any of the current models\n",
      "Warning: The added metabolite (pi_e) is not able to be taken up by any of the current models\n",
      "Warning: The added metabolite (h2o_e) is not able to be taken up by any of the current models\n",
      "Warning: The added metabolite (h_e) is not able to be taken up by any of the current models\n"
     ]
    }
   ],
   "source": [
    "######minimal medium aerobic\n",
    "\n",
    "# Create empty 1x1 layout\n",
    "test_tube = c.layout()\n",
    "\n",
    "# Add 11mM glucose and remove o2\n",
    "test_tube.set_specific_metabolite('glc__D_e', 0.11)\n",
    "test_tube.set_specific_metabolite('o2_e', 1000.0)\n",
    "\n",
    "# Add the rest of nutrients unlimited (ammonia, phosphate, water and protons)\n",
    "test_tube.set_specific_metabolite('nh4_e',1000);\n",
    "test_tube.set_specific_metabolite('pi_e',1000);\n",
    "test_tube.set_specific_metabolite('h2o_e',1000);\n",
    "test_tube.set_specific_metabolite('h_e',1000);"
   ]
  },
  {
   "cell_type": "code",
   "execution_count": null,
   "metadata": {},
   "outputs": [],
   "source": [
    "######minimal medium with anaerobiosis\n",
    "\n",
    "# Create empty 1x1 layout\n",
    "test_tube = c.layout()\n",
    "\n",
    "# Add 11mM glucose and remove o2\n",
    "test_tube.set_specific_metabolite('glc__D_e', 0.11)\n",
    "test_tube.set_specific_metabolite('o2_e', 0.0)\n",
    "\n",
    "# Add the rest of nutrients unlimited (ammonia, phosphate, water and protons)\n",
    "test_tube.set_specific_metabolite('nh4_e',1000);\n",
    "test_tube.set_specific_metabolite('pi_e',1000);\n",
    "test_tube.set_specific_metabolite('h2o_e',1000);\n",
    "test_tube.set_specific_metabolite('h_e',1000);"
   ]
  },
  {
   "cell_type": "code",
   "execution_count": 14,
   "metadata": {},
   "outputs": [
    {
     "name": "stdout",
     "output_type": "stream",
     "text": [
      "building empty layout model\n",
      "models will need to be added with layout.add_model()\n",
      "Warning: The added metabolite (o2_e) is not able to be taken up by any of the current models\n",
      "Warning: The added metabolite (nh4_e) is not able to be taken up by any of the current models\n",
      "Warning: The added metabolite (pi_e) is not able to be taken up by any of the current models\n",
      "Warning: The added metabolite (h2o_e) is not able to be taken up by any of the current models\n",
      "Warning: The added metabolite (h_e) is not able to be taken up by any of the current models\n",
      "Warning: The added metabolite (btn_e) is not able to be taken up by any of the current models\n",
      "Warning: The added metabolite (cd2_e) is not able to be taken up by any of the current models\n",
      "Warning: The added metabolite (glc__D_e) is not able to be taken up by any of the current models\n",
      "Warning: The added metabolite (fe2_e) is not able to be taken up by any of the current models\n",
      "Warning: The added metabolite (ala__L_e) is not able to be taken up by any of the current models\n",
      "Warning: The added metabolite (arg__L_e) is not able to be taken up by any of the current models\n",
      "Warning: The added metabolite (asn__L_e) is not able to be taken up by any of the current models\n",
      "Warning: The added metabolite (asp__L_e) is not able to be taken up by any of the current models\n",
      "Warning: The added metabolite (cys__L_e) is not able to be taken up by any of the current models\n",
      "Warning: The added metabolite (glu__L_e) is not able to be taken up by any of the current models\n",
      "Warning: The added metabolite (gln__L_e) is not able to be taken up by any of the current models\n",
      "Warning: The added metabolite (gly_e) is not able to be taken up by any of the current models\n",
      "Warning: The added metabolite (his__L_e) is not able to be taken up by any of the current models\n",
      "Warning: The added metabolite (ile__L_e) is not able to be taken up by any of the current models\n",
      "Warning: The added metabolite (leu__L_e) is not able to be taken up by any of the current models\n",
      "Warning: The added metabolite (lys__L_e) is not able to be taken up by any of the current models\n",
      "Warning: The added metabolite (met__L_e) is not able to be taken up by any of the current models\n",
      "Warning: The added metabolite (phe__L_e) is not able to be taken up by any of the current models\n",
      "Warning: The added metabolite (pro__L_e) is not able to be taken up by any of the current models\n",
      "Warning: The added metabolite (ser__L_e) is not able to be taken up by any of the current models\n",
      "Warning: The added metabolite (thr__L_e) is not able to be taken up by any of the current models\n",
      "Warning: The added metabolite (trp__L_e) is not able to be taken up by any of the current models\n",
      "Warning: The added metabolite (tyr__L_e) is not able to be taken up by any of the current models\n",
      "Warning: The added metabolite (val__L_e) is not able to be taken up by any of the current models\n",
      "Warning: The added metabolite (k_e) is not able to be taken up by any of the current models\n",
      "Warning: The added metabolite (pydxn_e) is not able to be taken up by any of the current models\n",
      "Warning: The added metabolite (ribflv_e) is not able to be taken up by any of the current models\n",
      "Warning: The added metabolite (na1_e) is not able to be taken up by any of the current models\n",
      "Warning: The added metabolite (thm_e) is not able to be taken up by any of the current models\n"
     ]
    }
   ],
   "source": [
    "######YPD with aerobiosis\n",
    "\n",
    "# Create empty 1x1 layout\n",
    "test_tube = c.layout()\n",
    "\n",
    "# Add 11mM glucose and remove o2\n",
    "#test_tube.set_specific_metabolite('glc__D_e', 0.00111014898199338)\n",
    "test_tube.set_specific_metabolite('o2_e', 1000.0)\n",
    "\n",
    "# Add the rest of nutrients unlimited (ammonia, phosphate, water and protons)\n",
    "test_tube.set_specific_metabolite('nh4_e',1000);\n",
    "test_tube.set_specific_metabolite('pi_e',1000);\n",
    "test_tube.set_specific_metabolite('h2o_e',1000);\n",
    "test_tube.set_specific_metabolite('h_e',1000);\n",
    "\n",
    "test_tube.set_specific_metabolite('btn_e',0);\n",
    "test_tube.set_specific_metabolite('cd2_e',0.00000016012810248199);\n",
    "test_tube.set_specific_metabolite('glc__D_e',0.00111014898199338);\n",
    "test_tube.set_specific_metabolite('fe2_e',0.0000099179872862387);\n",
    "test_tube.set_specific_metabolite('ala__L_e',0.000156022000224492);\n",
    "test_tube.set_specific_metabolite('arg__L_e',0.0000482204362801378);\n",
    "test_tube.set_specific_metabolite('asn__L_e',0.0000166515289131093);\n",
    "test_tube.set_specific_metabolite('asp__L_e',0.000124718256949662);\n",
    "test_tube.set_specific_metabolite('cys__L_e',0.00000495212941564873);\n",
    "test_tube.set_specific_metabolite('glu__L_e',0.000267790389451505);\n",
    "test_tube.set_specific_metabolite('gln__L_e',0.00000239496373340632);\n",
    "test_tube.set_specific_metabolite('gly_e',0.000103236978819768);\n",
    "test_tube.set_specific_metabolite('his__L_e',0.0000357707731514244);\n",
    "test_tube.set_specific_metabolite('ile__L_e',0.000107112906914691);\n",
    "test_tube.set_specific_metabolite('leu__L_e',0.000149043226347488);\n",
    "test_tube.set_specific_metabolite('lys__L_e',0.000110472672549422);\n",
    "test_tube.set_specific_metabolite('met__L_e',0.000027813149252731);\n",
    "test_tube.set_specific_metabolite('phe__L_e',0.000081724075307222);\n",
    "test_tube.set_specific_metabolite('pro__L_e',0.000117693042647442);\n",
    "test_tube.set_specific_metabolite('ser__L_e',0.0000566181368350937);\n",
    "test_tube.set_specific_metabolite('thr__L_e',0.0000444932471003835);\n",
    "test_tube.set_specific_metabolite('trp__L_e',0.00000979288057582138);\n",
    "test_tube.set_specific_metabolite('tyr__L_e',0.0000231800872012804);\n",
    "test_tube.set_specific_metabolite('val__L_e',0.000127613080554157);\n",
    "test_tube.set_specific_metabolite('k_e',0.000262334390505908);\n",
    "test_tube.set_specific_metabolite('pydxn_e',0.00000003842061709422);\n",
    "test_tube.set_specific_metabolite('ribflv_e',0.00000002789882027846);\n",
    "test_tube.set_specific_metabolite('na1_e',0.000173866468507798);\n",
    "test_tube.set_specific_metabolite('thm_e',0.00000002355335305534);\n",
    "\n"
   ]
  },
  {
   "cell_type": "code",
   "execution_count": null,
   "metadata": {},
   "outputs": [],
   "source": [
    "######YPD with anaerobiosis\n",
    "\n",
    "# Create empty 1x1 layout\n",
    "test_tube = c.layout()\n",
    "\n",
    "# Add 11mM glucose and remove o2\n",
    "#test_tube.set_specific_metabolite('glc__D_e', 0.00111014898199338)\n",
    "test_tube.set_specific_metabolite('o2_e', 0.0)\n",
    "\n",
    "# Add the rest of nutrients unlimited (ammonia, phosphate, water and protons)\n",
    "test_tube.set_specific_metabolite('nh4_e',1000);\n",
    "test_tube.set_specific_metabolite('pi_e',1000);\n",
    "test_tube.set_specific_metabolite('h2o_e',1000);\n",
    "test_tube.set_specific_metabolite('h_e',1000);\n",
    "\n",
    "test_tube.set_specific_metabolite('btn_e',0);\n",
    "test_tube.set_specific_metabolite('cd2_e',0.00000016012810248199);\n",
    "test_tube.set_specific_metabolite('glc__D_e',0.00111014898199338);\n",
    "test_tube.set_specific_metabolite('fe2_e',0.0000099179872862387);\n",
    "test_tube.set_specific_metabolite('ala__L_e',0.000156022000224492);\n",
    "test_tube.set_specific_metabolite('arg__L_e',0.0000482204362801378);\n",
    "test_tube.set_specific_metabolite('asn__L_e',0.0000166515289131093);\n",
    "test_tube.set_specific_metabolite('asp__L_e',0.000124718256949662);\n",
    "test_tube.set_specific_metabolite('cys__L_e',0.00000495212941564873);\n",
    "test_tube.set_specific_metabolite('glu__L_e',0.000267790389451505);\n",
    "test_tube.set_specific_metabolite('gln__L_e',0.00000239496373340632);\n",
    "test_tube.set_specific_metabolite('gly_e',0.000103236978819768);\n",
    "test_tube.set_specific_metabolite('his__L_e',0.0000357707731514244);\n",
    "test_tube.set_specific_metabolite('ile__L_e',0.000107112906914691);\n",
    "test_tube.set_specific_metabolite('leu__L_e',0.000149043226347488);\n",
    "test_tube.set_specific_metabolite('lys__L_e',0.000110472672549422);\n",
    "test_tube.set_specific_metabolite('met__L_e',0.000027813149252731);\n",
    "test_tube.set_specific_metabolite('phe__L_e',0.000081724075307222);\n",
    "test_tube.set_specific_metabolite('pro__L_e',0.000117693042647442);\n",
    "test_tube.set_specific_metabolite('ser__L_e',0.0000566181368350937);\n",
    "test_tube.set_specific_metabolite('thr__L_e',0.0000444932471003835);\n",
    "test_tube.set_specific_metabolite('trp__L_e',0.00000979288057582138);\n",
    "test_tube.set_specific_metabolite('tyr__L_e',0.0000231800872012804);\n",
    "test_tube.set_specific_metabolite('val__L_e',0.000127613080554157);\n",
    "test_tube.set_specific_metabolite('k_e',0.000262334390505908);\n",
    "test_tube.set_specific_metabolite('pydxn_e',0.00000003842061709422);\n",
    "test_tube.set_specific_metabolite('ribflv_e',0.00000002789882027846);\n",
    "test_tube.set_specific_metabolite('na1_e',0.000173866468507798);\n",
    "test_tube.set_specific_metabolite('thm_e',0.00000002355335305534);\n",
    "\n"
   ]
  },
  {
   "cell_type": "code",
   "execution_count": null,
   "metadata": {},
   "outputs": [],
   "source": [
    "######gut with aerobiosis\n",
    "\n",
    "# Create empty 1x1 layout\n",
    "test_tube = c.layout()\n",
    "\n",
    "# Add 11mM glucose and remove o2\n",
    "#test_tube.set_specific_metabolite('glc__D_e', 0.00111014898199338)\n",
    "test_tube.set_specific_metabolite('o2_e', 1000.0)\n",
    "\n",
    "# Add the rest of nutrients unlimited (ammonia, phosphate, water and protons)\n",
    "test_tube.set_specific_metabolite('nh4_e',1000);\n",
    "test_tube.set_specific_metabolite('pi_e',1000);\n",
    "test_tube.set_specific_metabolite('h2o_e',1000);\n",
    "test_tube.set_specific_metabolite('h_e',1000);\n",
    "\n",
    "test_tube.set_specific_metabolite('btn_e',0.00000000556669804756);\n",
    "test_tube.set_specific_metabolite('cd2_e',0);\n",
    "test_tube.set_specific_metabolite('glc__D_e',0.0111014898199338);\n",
    "test_tube.set_specific_metabolite('fe2_e',0.00000243531202435312);\n",
    "test_tube.set_specific_metabolite('ala__L_e',0.00000853069929284993);\n",
    "test_tube.set_specific_metabolite('arg__L_e',0.00000436280137772675);\n",
    "test_tube.set_specific_metabolite('asn__L_e',0.00000575234635180139);\n",
    "test_tube.set_specific_metabolite('asp__L_e',0.00000570999248685199);\n",
    "test_tube.set_specific_metabolite('cys__L_e',0.00000627269725982172);\n",
    "test_tube.set_specific_metabolite('glu__L_e',0.00000516549989804935);\n",
    "test_tube.set_specific_metabolite('gln__L_e',0.00000520049267825373);\n",
    "test_tube.set_specific_metabolite('gly_e',0.0000101238843745837);\n",
    "test_tube.set_specific_metabolite('his__L_e',0);\n",
    "test_tube.set_specific_metabolite('ile__L_e',0.00000579400777616833);\n",
    "test_tube.set_specific_metabolite('leu__L_e',0);\n",
    "test_tube.set_specific_metabolite('lys__L_e',0.00000519871400232574);\n",
    "test_tube.set_specific_metabolite('met__L_e',0.00000509349239327123);\n",
    "test_tube.set_specific_metabolite('phe__L_e',0.0000046007627580362);\n",
    "test_tube.set_specific_metabolite('pro__L_e',0.00000660123338834361);\n",
    "test_tube.set_specific_metabolite('ser__L_e',0.00000723189646969264);\n",
    "test_tube.set_specific_metabolite('thr__L_e',0.00000638016373514933);\n",
    "test_tube.set_specific_metabolite('trp__L_e',0);\n",
    "test_tube.set_specific_metabolite('tyr__L_e',0.00000419449196975551);\n",
    "test_tube.set_specific_metabolite('val__L_e',0.00000648735392783672);\n",
    "test_tube.set_specific_metabolite('k_e',0.0173921939741163);\n",
    "test_tube.set_specific_metabolite('pydxn_e',0.00000160775505378886);\n",
    "test_tube.set_specific_metabolite('ribflv_e',0.00000036135614836858);\n",
    "test_tube.set_specific_metabolite('na1_e',0.00295783742379703);\n",
    "test_tube.set_specific_metabolite('thm_e',0.00000102504192496844);\n",
    "\n"
   ]
  },
  {
   "cell_type": "code",
   "execution_count": null,
   "metadata": {},
   "outputs": [],
   "source": [
    "######gut with anaerobiosis\n",
    "\n",
    "# Create empty 1x1 layout\n",
    "test_tube = c.layout()\n",
    "\n",
    "# Add 11mM glucose and remove o2\n",
    "#test_tube.set_specific_metabolite('glc__D_e', 0.00111014898199338)\n",
    "test_tube.set_specific_metabolite('o2_e', 0.0)\n",
    "\n",
    "# Add the rest of nutrients unlimited (ammonia, phosphate, water and protons)\n",
    "test_tube.set_specific_metabolite('nh4_e',1000);\n",
    "test_tube.set_specific_metabolite('pi_e',1000);\n",
    "test_tube.set_specific_metabolite('h2o_e',1000);\n",
    "test_tube.set_specific_metabolite('h_e',1000);\n",
    "\n",
    "test_tube.set_specific_metabolite('btn_e',0.00000000556669804756);\n",
    "test_tube.set_specific_metabolite('cd2_e',0);\n",
    "test_tube.set_specific_metabolite('glc__D_e',0.0111014898199338);\n",
    "test_tube.set_specific_metabolite('fe2_e',0.00000243531202435312);\n",
    "test_tube.set_specific_metabolite('ala__L_e',0.00000853069929284993);\n",
    "test_tube.set_specific_metabolite('arg__L_e',0.00000436280137772675);\n",
    "test_tube.set_specific_metabolite('asn__L_e',0.00000575234635180139);\n",
    "test_tube.set_specific_metabolite('asp__L_e',0.00000570999248685199);\n",
    "test_tube.set_specific_metabolite('cys__L_e',0.00000627269725982172);\n",
    "test_tube.set_specific_metabolite('glu__L_e',0.00000516549989804935);\n",
    "test_tube.set_specific_metabolite('gln__L_e',0.00000520049267825373);\n",
    "test_tube.set_specific_metabolite('gly_e',0.0000101238843745837);\n",
    "test_tube.set_specific_metabolite('his__L_e',0);\n",
    "test_tube.set_specific_metabolite('ile__L_e',0.00000579400777616833);\n",
    "test_tube.set_specific_metabolite('leu__L_e',0);\n",
    "test_tube.set_specific_metabolite('lys__L_e',0.00000519871400232574);\n",
    "test_tube.set_specific_metabolite('met__L_e',0.00000509349239327123);\n",
    "test_tube.set_specific_metabolite('phe__L_e',0.0000046007627580362);\n",
    "test_tube.set_specific_metabolite('pro__L_e',0.00000660123338834361);\n",
    "test_tube.set_specific_metabolite('ser__L_e',0.00000723189646969264);\n",
    "test_tube.set_specific_metabolite('thr__L_e',0.00000638016373514933);\n",
    "test_tube.set_specific_metabolite('trp__L_e',0);\n",
    "test_tube.set_specific_metabolite('tyr__L_e',0.00000419449196975551);\n",
    "test_tube.set_specific_metabolite('val__L_e',0.00000648735392783672);\n",
    "test_tube.set_specific_metabolite('k_e',0.0173921939741163);\n",
    "test_tube.set_specific_metabolite('pydxn_e',0.00000160775505378886);\n",
    "test_tube.set_specific_metabolite('ribflv_e',0.00000036135614836858);\n",
    "test_tube.set_specific_metabolite('na1_e',0.00295783742379703);\n",
    "test_tube.set_specific_metabolite('thm_e',0.00000102504192496844);\n",
    "\n"
   ]
  },
  {
   "cell_type": "code",
   "execution_count": null,
   "metadata": {},
   "outputs": [],
   "source": [
    "######crop with aerobiosis\n",
    "\n",
    "# Create empty 1x1 layout\n",
    "test_tube = c.layout()\n",
    "\n",
    "# Add 11mM glucose and remove o2\n",
    "#test_tube.set_specific_metabolite('glc__D_e', 0.00111014898199338)\n",
    "test_tube.set_specific_metabolite('o2_e', 1000.0)\n",
    "\n",
    "# Add the rest of nutrients unlimited (ammonia, phosphate, water and protons)\n",
    "test_tube.set_specific_metabolite('nh4_e',1000);\n",
    "test_tube.set_specific_metabolite('pi_e',1000);\n",
    "test_tube.set_specific_metabolite('h2o_e',1000);\n",
    "test_tube.set_specific_metabolite('h_e',1000);\n",
    "\n",
    "test_tube.set_specific_metabolite('btn_e',0.00000000556669804756);\n",
    "test_tube.set_specific_metabolite('cd2_e',0);\n",
    "test_tube.set_specific_metabolite('glc__D_e',0.00111014898199338);\n",
    "test_tube.set_specific_metabolite('fe2_e',0.00000243531202435312);\n",
    "test_tube.set_specific_metabolite('ala__L_e',0.00000853069929284993);\n",
    "test_tube.set_specific_metabolite('arg__L_e',0.00000436280137772675);\n",
    "test_tube.set_specific_metabolite('asn__L_e',0.00000575234635180139);\n",
    "test_tube.set_specific_metabolite('asp__L_e',0.00000570999248685199);\n",
    "test_tube.set_specific_metabolite('cys__L_e',0.00000627269725982172);\n",
    "test_tube.set_specific_metabolite('glu__L_e',0.00000516549989804935);\n",
    "test_tube.set_specific_metabolite('gln__L_e',0.00000520049267825373);\n",
    "test_tube.set_specific_metabolite('gly_e',0.0000101238843745837);\n",
    "test_tube.set_specific_metabolite('his__L_e',0);\n",
    "test_tube.set_specific_metabolite('ile__L_e',0.00000579400777616833);\n",
    "test_tube.set_specific_metabolite('leu__L_e',0);\n",
    "test_tube.set_specific_metabolite('lys__L_e',0.00000519871400232574);\n",
    "test_tube.set_specific_metabolite('met__L_e',0.00000509349239327123);\n",
    "test_tube.set_specific_metabolite('phe__L_e',0.0000046007627580362);\n",
    "test_tube.set_specific_metabolite('pro__L_e',0.00000660123338834361);\n",
    "test_tube.set_specific_metabolite('ser__L_e',0.00000723189646969264);\n",
    "test_tube.set_specific_metabolite('thr__L_e',0.00000638016373514933);\n",
    "test_tube.set_specific_metabolite('trp__L_e',0.00000244822014395534);\n",
    "test_tube.set_specific_metabolite('tyr__L_e',0.00000419449196975551);\n",
    "test_tube.set_specific_metabolite('val__L_e',0.00000648735392783672);\n",
    "test_tube.set_specific_metabolite('k_e',0.0173921939741163);\n",
    "test_tube.set_specific_metabolite('pydxn_e',0.00000160775505378886);\n",
    "test_tube.set_specific_metabolite('ribflv_e',0.00000036135614836858);\n",
    "test_tube.set_specific_metabolite('na1_e',0.00295783742379703);\n",
    "test_tube.set_specific_metabolite('thm_e',0.00000102504192496844);"
   ]
  },
  {
   "cell_type": "code",
   "execution_count": null,
   "metadata": {},
   "outputs": [],
   "source": [
    "######crop with anaerobiosis\n",
    "\n",
    "# Create empty 1x1 layout\n",
    "test_tube = c.layout()\n",
    "\n",
    "# Add 11mM glucose and remove o2\n",
    "#test_tube.set_specific_metabolite('glc__D_e', 0.00111014898199338)\n",
    "test_tube.set_specific_metabolite('o2_e', 0.0)\n",
    "\n",
    "# Add the rest of nutrients unlimited (ammonia, phosphate, water and protons)\n",
    "test_tube.set_specific_metabolite('nh4_e',1000);\n",
    "test_tube.set_specific_metabolite('pi_e',1000);\n",
    "test_tube.set_specific_metabolite('h2o_e',1000);\n",
    "test_tube.set_specific_metabolite('h_e',1000);\n",
    "\n",
    "test_tube.set_specific_metabolite('btn_e',0.00000000556669804756);\n",
    "test_tube.set_specific_metabolite('cd2_e',0);\n",
    "test_tube.set_specific_metabolite('glc__D_e',0.00111014898199338);\n",
    "test_tube.set_specific_metabolite('fe2_e',0.00000243531202435312);\n",
    "test_tube.set_specific_metabolite('ala__L_e',0.00000853069929284993);\n",
    "test_tube.set_specific_metabolite('arg__L_e',0.00000436280137772675);\n",
    "test_tube.set_specific_metabolite('asn__L_e',0.00000575234635180139);\n",
    "test_tube.set_specific_metabolite('asp__L_e',0.00000570999248685199);\n",
    "test_tube.set_specific_metabolite('cys__L_e',0.00000627269725982172);\n",
    "test_tube.set_specific_metabolite('glu__L_e',0.00000516549989804935);\n",
    "test_tube.set_specific_metabolite('gln__L_e',0.00000520049267825373);\n",
    "test_tube.set_specific_metabolite('gly_e',0.0000101238843745837);\n",
    "test_tube.set_specific_metabolite('his__L_e',0);\n",
    "test_tube.set_specific_metabolite('ile__L_e',0.00000579400777616833);\n",
    "test_tube.set_specific_metabolite('leu__L_e',0);\n",
    "test_tube.set_specific_metabolite('lys__L_e',0.00000519871400232574);\n",
    "test_tube.set_specific_metabolite('met__L_e',0.00000509349239327123);\n",
    "test_tube.set_specific_metabolite('phe__L_e',0.0000046007627580362);\n",
    "test_tube.set_specific_metabolite('pro__L_e',0.00000660123338834361);\n",
    "test_tube.set_specific_metabolite('ser__L_e',0.00000723189646969264);\n",
    "test_tube.set_specific_metabolite('thr__L_e',0.00000638016373514933);\n",
    "test_tube.set_specific_metabolite('trp__L_e',0.00000244822014395534);\n",
    "test_tube.set_specific_metabolite('tyr__L_e',0.00000419449196975551);\n",
    "test_tube.set_specific_metabolite('val__L_e',0.00000648735392783672);\n",
    "test_tube.set_specific_metabolite('k_e',0.0173921939741163);\n",
    "test_tube.set_specific_metabolite('pydxn_e',0.00000160775505378886);\n",
    "test_tube.set_specific_metabolite('ribflv_e',0.00000036135614836858);\n",
    "test_tube.set_specific_metabolite('na1_e',0.00295783742379703);\n",
    "test_tube.set_specific_metabolite('thm_e',0.00000102504192496844);"
   ]
  },
  {
   "cell_type": "markdown",
   "metadata": {},
   "source": [
    "### Loading a model\n",
    "\n",
    "Load the model and add it to the layout (or \"inoculate it in our test tube\").\n"
   ]
  },
  {
   "cell_type": "code",
   "execution_count": 23,
   "metadata": {},
   "outputs": [],
   "source": [
    "# create the model using CobraPy functionality\n",
    "Sce_cobra = cobra.io.load_json_model(\"iMM904.json\")\n",
    "\n",
    "\n",
    "\n",
    "test_tube.grid = [1,1]\n",
    "# use the loaded model to build a comets model\n",
    "Sce=c.model(Sce_cobra)\n",
    "# remove the bounds from glucose import (will be set dynamically by COMETS)\n",
    "Sce.change_bounds('EX_glc__D_e', -1000, 1000)\n",
    "Sce.change_bounds('EX_ac_e', -1000, 1000)\n",
    "Sce.change_bounds('ATPM', 8, 1000)\n",
    "\n",
    "# set the model's initial biomass\n",
    "Sce.initial_pop = [0, 0, 5e-6]\n",
    "  \n",
    "Sce.obj_style=\"MAX_OBJECTIVE_MIN_TOTAL\"\n",
    "\n",
    "\n",
    "# add it to the test_tube\n",
    "test_tube.add_model(Sce)"
   ]
  },
  {
   "cell_type": "markdown",
   "metadata": {},
   "source": [
    "### Setting the simulation parameters\n",
    "\n",
    "Instantiate the params class, which generates a set of parameters for the COMETS simulation with the [TODO LINK TO DEF VALS] default values for all of them. All of the parameters are contained in the all_params field which is a Python dict object, making it easy to change the value of the desired parameters."
   ]
  },
  {
   "cell_type": "code",
   "execution_count": 24,
   "metadata": {},
   "outputs": [],
   "source": [
    "# Set the parameters that are different from the default\n",
    "sim_params = c.params()"
   ]
  },
  {
   "cell_type": "code",
   "execution_count": 25,
   "metadata": {},
   "outputs": [
    {
     "name": "stdout",
     "output_type": "stream",
     "text": [
      "/home/irene/softwares/comets_linux/comets_2.12.3/lib/cometspy-master/cometspy/__init__.py\n"
     ]
    }
   ],
   "source": [
    "import os\n",
    "print(os.path.abspath(c.__file__))"
   ]
  },
  {
   "cell_type": "code",
   "execution_count": 26,
   "metadata": {},
   "outputs": [],
   "source": [
    "sim_params.set_param('numRunThreads', 1)\n",
    "sim_params.set_param('defaultVmax', 18)\n",
    "sim_params.set_param('defaultKm', 0.000003)\n",
    "sim_params.set_param('maxCycles', 2000)\n",
    "sim_params.set_param('timeStep', 0.01)\n",
    "sim_params.set_param('spaceWidth', 10)#this is the linear size of the box= 1 cm. consider it as a cube, so, to calculate the dimension/linear size, use the radice cubica. (in cm); 1l=10 cm\n",
    "sim_params.set_param('maxSpaceBiomass', 10)\n",
    "sim_params.set_param('minSpaceBiomass', 1e-11)\n",
    "sim_params.set_param('writeMediaLog', True)\n",
    "sim_params.set_param('deathRate', 0.0)"
   ]
  },
  {
   "cell_type": "markdown",
   "metadata": {},
   "source": [
    "### Running the simulation\n",
    "\n",
    "Now instantiate the comets class by passing the layout (containing the model) and the params objects just created."
   ]
  },
  {
   "cell_type": "code",
   "execution_count": 27,
   "metadata": {},
   "outputs": [],
   "source": []
  },
  {
   "cell_type": "code",
   "execution_count": 28,
   "metadata": {},
   "outputs": [],
   "source": [
    "experiment = c.comets(test_tube, sim_params)"
   ]
  },
  {
   "cell_type": "markdown",
   "metadata": {},
   "source": [
    "Run the simulation as:"
   ]
  },
  {
   "cell_type": "code",
   "execution_count": 29,
   "metadata": {
    "scrolled": true
   },
   "outputs": [
    {
     "name": "stdout",
     "output_type": "stream",
     "text": [
      "\n",
      "Running COMETS simulation ...\n",
      "\n",
      "Debug Here ...\n",
      "Done!\n"
     ]
    }
   ],
   "source": [
    "experiment.run()"
   ]
  },
  {
   "cell_type": "code",
   "execution_count": 30,
   "metadata": {},
   "outputs": [
    {
     "name": "stdout",
     "output_type": "stream",
     "text": [
      "      cycle    iMM904  e_coli_core\n",
      "0         0  0.000005     0.000005\n",
      "1         1  0.000005     0.000005\n",
      "2         2  0.000005     0.000005\n",
      "3         3  0.000005     0.000005\n",
      "4         4  0.000005     0.000005\n",
      "...     ...       ...          ...\n",
      "1996   1996  0.000005     0.000079\n",
      "1997   1997  0.000005     0.000079\n",
      "1998   1998  0.000005     0.000079\n",
      "1999   1999  0.000005     0.000079\n",
      "2000   2000  0.000005     0.000079\n",
      "\n",
      "[2001 rows x 3 columns]\n"
     ]
    }
   ],
   "source": [
    "#print(experiment.run_output)\n",
    "print(experiment.total_biomass)\n",
    "\n",
    "#to save the result in a file\n",
    "#tempOut.to_csv(\"path_to_the_folder_and_new_file_name.csv\")\n"
   ]
  },
  {
   "cell_type": "markdown",
   "metadata": {},
   "source": [
    "### Analyzing the results\n",
    "\n",
    "The growth of the simulated model can be seen by plotting the total_biomass field."
   ]
  },
  {
   "cell_type": "code",
   "execution_count": 31,
   "metadata": {},
   "outputs": [
    {
     "data": {
      "text/plain": [
       "Text(0, 0.5, 'Biomass (gr.)')"
      ]
     },
     "execution_count": 31,
     "metadata": {},
     "output_type": "execute_result"
    },
    {
     "data": {
      "image/png": "[encoded data removed]",
      "text/plain": [
       "<Figure size 432x288 with 1 Axes>"
      ]
     },
     "metadata": {
      "needs_background": "light"
     },
     "output_type": "display_data"
    }
   ],
   "source": [
    "ax = experiment.total_biomass.plot(x = 'cycle')\n",
    "ax.set_ylabel(\"Biomass (gr.)\")\n",
    "#to impose y limits:\n",
    "#ax.set_ylim([0,0.0006])"
   ]
  },
  {
   "cell_type": "markdown",
   "metadata": {},
   "source": [
    "To plot composition of the media, metabolites utilization or production. In the case below, only the components that are not added to the layout in unlimited amounts (“static” compounds, e.g. ammonia, phosphate, water, etc in this simulation). The selection is imposed by limiting the plot to compounds with concentration lower than 900mM."
   ]
  },
  {
   "cell_type": "code",
   "execution_count": 13,
   "metadata": {},
   "outputs": [
    {
     "data": {
      "text/plain": [
       "Text(0, 0.5, 'Concentration (mmol)')"
      ]
     },
     "execution_count": 13,
     "metadata": {},
     "output_type": "execute_result"
    },
    {
     "data": {
      "image/png": "[encoded data removed]",
      "text/plain": [
       "<Figure size 432x288 with 1 Axes>"
      ]
     },
     "metadata": {
      "needs_background": "light"
     },
     "output_type": "display_data"
    }
   ],
   "source": [
    "media = experiment.media.copy()\n",
    "#to save the file with the results\n",
    "media.to_csv(\"path_to_the_folder_and_new_file_name.csv\")\n",
    "\n",
    "media = media[media.conc_mmol<900]\n",
    "\n",
    "fig, ax = plt.subplots()\n",
    "media.groupby('metabolite').plot(x='cycle', ax =ax, y='conc_mmol')\n",
    "ax.legend(('acetate','CO2', 'formate', 'glucose'))#change the molecule names according to the results\n",
    "ax.set_ylabel(\"Concentration (mmol)\")\n"
   ]
  },
  {
   "cell_type": "code",
   "execution_count": null,
   "metadata": {},
   "outputs": [],
   "source": []
  },
  {
   "cell_type": "code",
   "execution_count": null,
   "metadata": {},
   "outputs": [],
   "source": []
  }
 ],
 "metadata": {
  "kernelspec": {
   "display_name": "Python 3 (ipykernel)",
   "language": "python",
   "name": "python3"
  },
  "language_info": {
   "codemirror_mode": {
    "name": "ipython",
    "version": 3
   },
   "file_extension": ".py",
   "mimetype": "text/x-python",
   "name": "python",
   "nbconvert_exporter": "python",
   "pygments_lexer": "ipython3",
   "version": "3.10.12"
  }
 },
 "nbformat": 4,
 "nbformat_minor": 2
}
